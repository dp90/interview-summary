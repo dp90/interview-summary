{
 "cells": [
  {
   "cell_type": "code",
   "execution_count": 1,
   "metadata": {},
   "outputs": [],
   "source": [
    "from pydub import AudioSegment\n",
    "import pydub\n",
    "pydub.AudioSegment.ffmpeg = \"C:/ProgramData/chocolatey/bin/ffmpeg\"\n",
    "from pydub.playback import play\n",
    "\n",
    "\n",
    "import logging\n",
    "l = logging.getLogger('pydub.converter')\n",
    "l.setLevel(logging.DEBUG)\n",
    "l.addHandler(logging.StreamHandler())"
   ]
  },
  {
   "cell_type": "code",
   "execution_count": 2,
   "metadata": {},
   "outputs": [
    {
     "name": "stderr",
     "output_type": "stream",
     "text": [
      "subprocess.call(['ffmpeg', '-y', '-f', 'mp3', '-i', 'C:/src/interview-summary/data/Almere.mp3', '-acodec', 'pcm_s16le', '-vn', '-f', 'wav', '-'])\n",
      "subprocess.call(['ffmpeg', '-y', '-f', 'wav', '-i', 'C:\\\\Users\\\\david\\\\AppData\\\\Local\\\\Temp\\\\tmppismr8bg', '-f', 'mp3', 'C:\\\\Users\\\\david\\\\AppData\\\\Local\\\\Temp\\\\tmpv_siagpo'])\n",
      "subprocess output: b'ffmpeg version 5.1.2-essentials_build-www.gyan.dev Copyright (c) 2000-2022 the FFmpeg developers'\n",
      "subprocess output: b'  built with gcc 12.1.0 (Rev2, Built by MSYS2 project)'\n",
      "subprocess output: b'  configuration: --enable-gpl --enable-version3 --enable-static --disable-w32threads --disable-autodetect --enable-fontconfig --enable-iconv --enable-gnutls --enable-libxml2 --enable-gmp --enable-lzma --enable-zlib --enable-libsrt --enable-libssh --enable-libzmq --enable-avisynth --enable-sdl2 --enable-libwebp --enable-libx264 --enable-libx265 --enable-libxvid --enable-libaom --enable-libopenjpeg --enable-libvpx --enable-libass --enable-libfreetype --enable-libfribidi --enable-libvidstab --enable-libvmaf --enable-libzimg --enable-amf --enable-cuda-llvm --enable-cuvid --enable-ffnvcodec --enable-nvdec --enable-nvenc --enable-d3d11va --enable-dxva2 --enable-libmfx --enable-libgme --enable-libopenmpt --enable-libopencore-amrwb --enable-libmp3lame --enable-libtheora --enable-libvo-amrwbenc --enable-libgsm --enable-libopencore-amrnb --enable-libopus --enable-libspeex --enable-libvorbis --enable-librubberband'\n",
      "subprocess output: b'  libavutil      57. 28.100 / 57. 28.100'\n",
      "subprocess output: b'  libavcodec     59. 37.100 / 59. 37.100'\n",
      "subprocess output: b'  libavformat    59. 27.100 / 59. 27.100'\n",
      "subprocess output: b'  libavdevice    59.  7.100 / 59.  7.100'\n",
      "subprocess output: b'  libavfilter     8. 44.100 /  8. 44.100'\n",
      "subprocess output: b'  libswscale      6.  7.100 /  6.  7.100'\n",
      "subprocess output: b'  libswresample   4.  7.100 /  4.  7.100'\n",
      "subprocess output: b'  libpostproc    56.  6.100 / 56.  6.100'\n",
      "subprocess output: b'Guessed Channel Layout for Input Stream #0.0 : stereo'\n",
      "subprocess output: b\"Input #0, wav, from 'C:\\\\Users\\\\david\\\\AppData\\\\Local\\\\Temp\\\\tmppismr8bg':\"\n",
      "subprocess output: b'  Duration: 00:02:00.00, bitrate: 1411 kb/s'\n",
      "subprocess output: b'  Stream #0:0: Audio: pcm_s16le ([1][0][0][0] / 0x0001), 44100 Hz, stereo, s16, 1411 kb/s'\n",
      "subprocess output: b'Stream mapping:'\n",
      "subprocess output: b'  Stream #0:0 -> #0:0 (pcm_s16le (native) -> mp3 (libmp3lame))'\n",
      "subprocess output: b'Press [q] to stop, [?] for help'\n",
      "subprocess output: b\"Output #0, mp3, to 'C:\\\\Users\\\\david\\\\AppData\\\\Local\\\\Temp\\\\tmpv_siagpo':\"\n",
      "subprocess output: b'  Metadata:'\n",
      "subprocess output: b'    TSSE            : Lavf59.27.100'\n",
      "subprocess output: b'  Stream #0:0: Audio: mp3, 44100 Hz, stereo, s16p'\n",
      "subprocess output: b'    Metadata:'\n",
      "subprocess output: b'      encoder         : Lavc59.37.100 libmp3lame'\n",
      "subprocess output: b'size=       0kB time=00:00:00.00 bitrate=N/A speed=N/A'\n",
      "subprocess output: b'size=    1024kB time=00:01:17.58 bitrate= 108.1kbits/s speed= 155x'\n",
      "subprocess output: b'size=    1876kB time=00:02:00.00 bitrate= 128.0kbits/s speed= 150x'\n",
      "subprocess output: b'video:0kB audio:1876kB subtitle:0kB other streams:0kB global headers:0kB muxing overhead: 0.013174%'\n"
     ]
    },
    {
     "data": {
      "text/plain": [
       "<_io.BufferedRandom name='C:/src/interview-summary/data/2min.mp3'>"
      ]
     },
     "execution_count": 2,
     "metadata": {},
     "output_type": "execute_result"
    }
   ],
   "source": [
    "sound = AudioSegment.from_mp3('C:/src/interview-summary/data/Almere.mp3')\n",
    "sound = sound.set_channels(1)\n",
    "\n",
    "#Selecting Portion we want to cut\n",
    "StrtMin = 0\n",
    "StrtSec = 8\n",
    "EndMin = 2\n",
    "EndSec = 8\n",
    "\n",
    "# Time to milliseconds conversion\n",
    "StrtTime = StrtMin*60*1000+StrtSec*1000\n",
    "EndTime = EndMin*60*1000+EndSec*1000\n",
    "\n",
    "# Opening file and extracting portion of it\n",
    "extract = sound[StrtTime:EndTime]\n",
    "# play(extract)\n",
    "# Saving file in required location\n",
    "extract.export(\"C:/src/interview-summary/data/2min.wav\", format=\"wav\", bitrate='16k')"
   ]
  },
  {
   "cell_type": "code",
   "execution_count": null,
   "metadata": {},
   "outputs": [],
   "source": []
  }
 ],
 "metadata": {
  "kernelspec": {
   "display_name": "venv",
   "language": "python",
   "name": "python3"
  },
  "language_info": {
   "codemirror_mode": {
    "name": "ipython",
    "version": 3
   },
   "file_extension": ".py",
   "mimetype": "text/x-python",
   "name": "python",
   "nbconvert_exporter": "python",
   "pygments_lexer": "ipython3",
   "version": "3.10.9 (tags/v3.10.9:1dd9be6, Dec  6 2022, 20:01:21) [MSC v.1934 64 bit (AMD64)]"
  },
  "orig_nbformat": 4,
  "vscode": {
   "interpreter": {
    "hash": "4ecf9c545552ead85d3401f7a23104da3ea6a7c7a71cd397c835eb854bb9b3aa"
   }
  }
 },
 "nbformat": 4,
 "nbformat_minor": 2
}
